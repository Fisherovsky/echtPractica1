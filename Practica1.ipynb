{
 "cells": [
  {
   "cell_type": "markdown",
   "metadata": {},
   "source": [
    "# Introducción a las herramientas del cómputo científico.\n",
    "\n",
    "Sergio A. Alcalá Corona <br>\n",
    "Sergio A. Sánchez Chávez\n",
    "\n",
    "---\n",
    "---"
   ]
  },
  {
   "cell_type": "markdown",
   "metadata": {},
   "source": [
    "## Práctica 1.  SISTEMA OPERATIVO LINUX\n",
    "Esta práctica es para que empiezes a familiarizarte con algunos de los comandos de Bash y su sintaxis además de que aprendas a utilizar los cuadernos (notebook) de Jupyter.\n",
    "\n",
    "Tendrás que abrir tu Jupyterlab y en un cuaderno de Bash realizarás lo siguiente. Si tienes que colocar una respuesta hazlo en una celda 'Markdown' y no de código."
   ]
  },
  {
   "cell_type": "markdown",
   "metadata": {},
   "source": []
  },
  {
   "cell_type": "markdown",
   "metadata": {},
   "source": [
    "### Manejo e información de directorios y archivos"
   ]
  },
  {
   "cell_type": "markdown",
   "metadata": {},
   "source": [
    "\n",
    "\n",
    "\n"
   ]
  },
  {
   "cell_type": "code",
   "execution_count": null,
   "metadata": {},
   "outputs": [],
   "source": []
  },
  {
   "cell_type": "code",
   "execution_count": null,
   "metadata": {},
   "outputs": [],
   "source": []
  },
  {
   "cell_type": "markdown",
   "metadata": {},
   "source": [
    "1. $\\;$\n",
    "\n",
    "  1. Crea un directorio llamado ApellidoPaterno (tu primer apellido sin espacios, acentos o carácteres especiales como la ñ, por ejemplo **Alcala/**).\n",
    "\n",
    "  2. Dentro de este directorio crearás otro directorio con tu segundo apellido (respetando la regla de no llevar acentos, ni carácteres especiales. e.g **ApellidoMaterno/**). \n",
    "  \n",
    "  3. A su vez dentro de este último directorio, crea uno (o más) con tu(s) nombres(s) (**Sergio/, Anronio/**)."
   ]
  },
  {
   "cell_type": "code",
   "execution_count": 1,
   "metadata": {},
   "outputs": [
    {
     "name": "stdout",
     "output_type": "stream",
     "text": [
      "/home/fisherato/Escritorio/Computacion2022-8099/Practicas\n"
     ]
    }
   ],
   "source": [
    "pwd"
   ]
  },
  {
   "cell_type": "code",
   "execution_count": 2,
   "metadata": {},
   "outputs": [],
   "source": [
    "mkdir -p Fisher/Bautista/'Emir Julian'"
   ]
  },
  {
   "cell_type": "code",
   "execution_count": 4,
   "metadata": {},
   "outputs": [
    {
     "name": "stdout",
     "output_type": "stream",
     "text": [
      "\u001b[01;34m.\u001b[0m\n",
      "├── \u001b[01;35marchivos.png\u001b[0m\n",
      "├── \u001b[01;34mFisher\u001b[0m\n",
      "│   └── \u001b[01;34mBautista\u001b[0m\n",
      "│       └── \u001b[01;34mEmir Julian\u001b[0m\n",
      "├── Practica1.ipynb\n",
      "└── Untitled.ipynb\n",
      "\n",
      "3 directories, 3 files\n"
     ]
    }
   ],
   "source": [
    "tree ."
   ]
  },
  {
   "cell_type": "code",
   "execution_count": null,
   "metadata": {},
   "outputs": [],
   "source": [
    "#primero ejecutamos pwd para saber en qué directorio me encontraba, en mi caso no quise desplazarme así que generé los directorios en mi directorio de trabajo"
   ]
  },
  {
   "cell_type": "code",
   "execution_count": null,
   "metadata": {},
   "outputs": [],
   "source": [
    "#después se usó mkdir con la opción -p para crear todos los directorios en secuencia de una sentada, después usé tree con el argumento . para confirmar que los directorios se crearon en el orden correcto"
   ]
  },
  {
   "cell_type": "markdown",
   "metadata": {},
   "source": [
    "2. Después dentro de cada directorio vas a crear un archivo con el comando *touch*. El nombre del archivo, es a tu elección sin embargo uno de ellos debe de comenzar con un punto '.' **¿Que pása si ejecutas *cd ~*?**"
   ]
  },
  {
   "cell_type": "code",
   "execution_count": 5,
   "metadata": {},
   "outputs": [],
   "source": [
    "touch ./Fisher/Batman ./Fisher/Bautista/Sandman ./Fisher/Bautista/'Emir Julian'/Verlachs ./Fisher/Bautista/'Emir Julian'/.verlachs"
   ]
  },
  {
   "cell_type": "code",
   "execution_count": 6,
   "metadata": {},
   "outputs": [
    {
     "name": "stdout",
     "output_type": "stream",
     "text": [
      "\u001b[01;34m.\u001b[0m\n",
      "├── \u001b[01;35marchivos.png\u001b[0m\n",
      "├── \u001b[01;34mFisher\u001b[0m\n",
      "│   ├── Batman\n",
      "│   └── \u001b[01;34mBautista\u001b[0m\n",
      "│       ├── \u001b[01;34mEmir Julian\u001b[0m\n",
      "│       │   └── Verlachs\n",
      "│       └── Sandman\n",
      "├── Practica1.ipynb\n",
      "└── Untitled.ipynb\n",
      "\n",
      "3 directories, 6 files\n"
     ]
    }
   ],
   "source": [
    "tree ."
   ]
  },
  {
   "cell_type": "code",
   "execution_count": 7,
   "metadata": {},
   "outputs": [],
   "source": [
    "cd ~"
   ]
  },
  {
   "cell_type": "code",
   "execution_count": 8,
   "metadata": {},
   "outputs": [
    {
     "name": "stdout",
     "output_type": "stream",
     "text": [
      "/home/fisherato\n"
     ]
    }
   ],
   "source": [
    "pwd"
   ]
  },
  {
   "cell_type": "code",
   "execution_count": 9,
   "metadata": {},
   "outputs": [],
   "source": [
    "cd /home/fisherato/Escritorio/Computacion2022-8099/Practicas"
   ]
  },
  {
   "cell_type": "code",
   "execution_count": 10,
   "metadata": {},
   "outputs": [
    {
     "name": "stdout",
     "output_type": "stream",
     "text": [
      "/home/fisherato/Escritorio/Computacion2022-8099/Practicas\n"
     ]
    }
   ],
   "source": [
    "pwd"
   ]
  },
  {
   "cell_type": "code",
   "execution_count": null,
   "metadata": {},
   "outputs": [],
   "source": [
    "#al usar cd ~ nos dirige a \"home\", para crear los archivos con touch de un solo comando escribimos la ruta desde ./ hasta escribir el nombre del archivo que queremos, ocupé tree . para corroborar que los archivos se hubieran creado en el directorio correcto y con los nombres a los que se les fue asignado"
   ]
  },
  {
   "cell_type": "markdown",
   "metadata": {},
   "source": [
    "3. \n",
    "  1. Dentro de la carpeta PrimerNombre ejecuta el comando *ls -R*.\n",
    "  2. ¿Qué sucedió con el archivo que nombraste con un punto'.' inicial?\n",
    "  3. ¿Que opción deberías usar para ver el archivo que nombraste con '.' inicial?\n"
   ]
  },
  {
   "cell_type": "code",
   "execution_count": 11,
   "metadata": {},
   "outputs": [
    {
     "name": "stdout",
     "output_type": "stream",
     "text": [
      "Verlachs\n"
     ]
    }
   ],
   "source": [
    "cd Fisher/Bautista/'Emir Julian'/ && ls"
   ]
  },
  {
   "cell_type": "code",
   "execution_count": 12,
   "metadata": {},
   "outputs": [
    {
     "name": "stdout",
     "output_type": "stream",
     "text": [
      ".:\n",
      "Verlachs\n"
     ]
    }
   ],
   "source": [
    "ls -R"
   ]
  },
  {
   "cell_type": "code",
   "execution_count": 13,
   "metadata": {},
   "outputs": [
    {
     "name": "stdout",
     "output_type": "stream",
     "text": [
      "\u001b[0m\u001b[01;34m.\u001b[0m  \u001b[01;34m..\u001b[0m  .verlachs  Verlachs\n"
     ]
    }
   ],
   "source": [
    "ls -a"
   ]
  },
  {
   "cell_type": "code",
   "execution_count": null,
   "metadata": {},
   "outputs": [],
   "source": [
    "#el archivo cuyo título empezaba con \".\" no aparecía en ls -R, pero para poder verse se usa la opción -a, que precisamente enlista todos los archivos y directorios del directorio de trabajo incluyendo elementos ocultos"
   ]
  },
  {
   "cell_type": "markdown",
   "metadata": {},
   "source": [
    "4. En el directorio ApellidoPaterno, crea la siguiente estructura de directorios \n",
    "\n",
    "![archivos.png](attachment:archivos.png)"
   ]
  },
  {
   "cell_type": "code",
   "execution_count": 1,
   "metadata": {},
   "outputs": [
    {
     "name": "stdout",
     "output_type": "stream",
     "text": [
      "/home/fisherato/Escritorio/Computacion2022-8099/Practicas\n"
     ]
    }
   ],
   "source": [
    "pwd"
   ]
  },
  {
   "cell_type": "code",
   "execution_count": 2,
   "metadata": {},
   "outputs": [
    {
     "name": "stdout",
     "output_type": "stream",
     "text": [
      "\u001b[01;34m.\u001b[0m\n",
      "├── \u001b[01;35marchivos.png\u001b[0m\n",
      "├── \u001b[01;34mFisher\u001b[0m\n",
      "│   ├── Batman\n",
      "│   └── \u001b[01;34mBautista\u001b[0m\n",
      "│       ├── \u001b[01;34mEmir Julian\u001b[0m\n",
      "│       │   └── Verlachs\n",
      "│       └── Sandman\n",
      "├── Practica1.ipynb\n",
      "└── Untitled.ipynb\n",
      "\n",
      "3 directories, 6 files\n"
     ]
    }
   ],
   "source": [
    "tree ."
   ]
  },
  {
   "cell_type": "code",
   "execution_count": 3,
   "metadata": {},
   "outputs": [],
   "source": [
    "cd Fisher/ && mkdir -p configuracion/X11 configuracion/gnome programas/ reinstalacion/ usuarios/python/scripts"
   ]
  },
  {
   "cell_type": "code",
   "execution_count": 4,
   "metadata": {},
   "outputs": [
    {
     "name": "stdout",
     "output_type": "stream",
     "text": [
      "/home/fisherato/Escritorio/Computacion2022-8099/Practicas/Fisher\n",
      "\u001b[01;34m.\u001b[0m\n",
      "├── Batman\n",
      "├── \u001b[01;34mBautista\u001b[0m\n",
      "│   ├── \u001b[01;34mEmir Julian\u001b[0m\n",
      "│   │   └── Verlachs\n",
      "│   └── Sandman\n",
      "├── \u001b[01;34mconfiguracion\u001b[0m\n",
      "│   ├── \u001b[01;34mgnome\u001b[0m\n",
      "│   └── \u001b[01;34mX11\u001b[0m\n",
      "├── \u001b[01;34mprogramas\u001b[0m\n",
      "├── \u001b[01;34mreinstalacion\u001b[0m\n",
      "└── \u001b[01;34musuarios\u001b[0m\n",
      "    └── \u001b[01;34mpython\u001b[0m\n",
      "        └── \u001b[01;34mscripts\u001b[0m\n",
      "\n",
      "10 directories, 3 files\n"
     ]
    }
   ],
   "source": [
    "pwd && tree ."
   ]
  },
  {
   "cell_type": "code",
   "execution_count": null,
   "metadata": {},
   "outputs": [],
   "source": [
    "#cambié de directorio a Fisher, desde donde ejecuté mkdir con la opción -p  para que se crearan varios directorios de un solo comando sin necesidad de trasladarme una y otra vez entre ellos"
   ]
  },
  {
   "cell_type": "markdown",
   "metadata": {},
   "source": [
    "5. Dentro de del directorio reinstalacion/ (del inciso anterior) crea los siguientes archivos:  guia, notas, secuencia.data, paquetes.pkg e imagen.iso"
   ]
  },
  {
   "cell_type": "code",
   "execution_count": 5,
   "metadata": {},
   "outputs": [
    {
     "name": "stdout",
     "output_type": "stream",
     "text": [
      "\u001b[01;34m.\u001b[0m\n",
      "├── guia\n",
      "├── imagen.iso\n",
      "├── notas\n",
      "├── paquetes.pkg\n",
      "└── secuencia.data\n",
      "\n",
      "0 directories, 5 files\n"
     ]
    }
   ],
   "source": [
    "cd reinstalacion/ && touch guia notas secuencia.data paquetes.pkg imagen.iso && tree ."
   ]
  },
  {
   "cell_type": "code",
   "execution_count": null,
   "metadata": {},
   "outputs": [],
   "source": [
    "#Cambié de directorio a reinstalacion con cd y una ruta relativa, después ejecuté touch nombrando cada archivo que se me fue descrito"
   ]
  },
  {
   "cell_type": "markdown",
   "metadata": {},
   "source": [
    "6. Copia al directorio programas la totalidad de los archivos y directorios contenidos en el directorio /bin del sistema. "
   ]
  },
  {
   "cell_type": "code",
   "execution_count": 5,
   "metadata": {},
   "outputs": [],
   "source": [
    "cd Fisher/programas/ && cp -r /bin/ ."
   ]
  },
  {
   "cell_type": "code",
   "execution_count": 6,
   "metadata": {},
   "outputs": [
    {
     "name": "stdout",
     "output_type": "stream",
     "text": [
      "\u001b[0m\u001b[01;34mbin\u001b[0m\n"
     ]
    }
   ],
   "source": [
    "ls"
   ]
  },
  {
   "cell_type": "code",
   "execution_count": null,
   "metadata": {},
   "outputs": [],
   "source": [
    "#estaba en el directorio Practicas, por lo que me moví con cd al directorio programas usando una ruta relativa, ya ahí ejecuté el comando cp con la opción -r para copiar en su totalidad el directorio /bin hacia el directorio de destino que era el actual"
   ]
  },
  {
   "cell_type": "markdown",
   "metadata": {},
   "source": [
    "7. Copia al directorio configuracion/X11 todos los archivos y directorios contenidos en el directorio /etc/X11/"
   ]
  },
  {
   "cell_type": "code",
   "execution_count": 7,
   "metadata": {},
   "outputs": [
    {
     "name": "stdout",
     "output_type": "stream",
     "text": [
      "/home/fisherato/Escritorio/Computacion2022-8099/Practicas/Fisher/programas\n"
     ]
    }
   ],
   "source": [
    "pwd"
   ]
  },
  {
   "cell_type": "code",
   "execution_count": 8,
   "metadata": {},
   "outputs": [
    {
     "name": "stdout",
     "output_type": "stream",
     "text": [
      "/home/fisherato/Escritorio/Computacion2022-8099/Practicas/Fisher/configuracion/X11\n"
     ]
    }
   ],
   "source": [
    "cd ../configuracion/X11/ && pwd && cp -r /etc/X11/ ."
   ]
  },
  {
   "cell_type": "code",
   "execution_count": 9,
   "metadata": {},
   "outputs": [
    {
     "name": "stdout",
     "output_type": "stream",
     "text": [
      "\u001b[0m\u001b[01;34mX11\u001b[0m\n"
     ]
    }
   ],
   "source": [
    "ls"
   ]
  },
  {
   "cell_type": "code",
   "execution_count": null,
   "metadata": {},
   "outputs": [],
   "source": [
    "#usé pwd para saber en qué directorio estaba trabajando, después ejecuté cd para trasladarme al directorio X11 usando una ruta relativa, de nuevo usé pwd para saber en dónde me encontraba y ya ahí ejecuté cp con la opción -r para copiar en su totalidad el directorio /etc/X11 al directorio actual"
   ]
  },
  {
   "cell_type": "markdown",
   "metadata": {},
   "source": [
    "8. Crea con un solo comando un archivo llamado *\"hola.txt\"* con el contenido \"Hola\"."
   ]
  },
  {
   "cell_type": "code",
   "execution_count": 13,
   "metadata": {},
   "outputs": [
    {
     "name": "stdout",
     "output_type": "stream",
     "text": [
      "/home/fisherato/Escritorio/Computacion2022-8099/Practicas/Fisher\n"
     ]
    }
   ],
   "source": [
    "cd ../.. && pwd"
   ]
  },
  {
   "cell_type": "code",
   "execution_count": 14,
   "metadata": {},
   "outputs": [
    {
     "name": "stdout",
     "output_type": "stream",
     "text": [
      "Batman  \u001b[0m\u001b[01;34mBautista\u001b[0m  \u001b[01;34mconfiguracion\u001b[0m  hola.txt  \u001b[01;34mprogramas\u001b[0m  \u001b[01;34mreinstalacion\u001b[0m  \u001b[01;34musuarios\u001b[0m\n",
      "hola\n"
     ]
    }
   ],
   "source": [
    "echo 'hola' > hola.txt && ls && cat hola.txt"
   ]
  },
  {
   "cell_type": "code",
   "execution_count": null,
   "metadata": {},
   "outputs": [],
   "source": [
    "#primero cambié de directorio con cd, estaba en X11 así que ocupé cd ../.. para moverme dos directorios \"arriba\", desde ahí utilicé echo, el cual permite escribir contenido dentro de un archivo, en este caso un archivo .txt, después ejecuté ls para corroborar que se haya creado el archivo y después con cat verifiqué que el archivo tuviera el contendio que se le fue asignado"
   ]
  },
  {
   "cell_type": "markdown",
   "metadata": {},
   "source": [
    "9. Crea un archivo llamado \"hola2.txt\" que contenga el contenido de \"hola.txt\" y la frase \"de nuevo\".\n",
    "\n"
   ]
  },
  {
   "cell_type": "code",
   "execution_count": 15,
   "metadata": {},
   "outputs": [
    {
     "name": "stdout",
     "output_type": "stream",
     "text": [
      "/home/fisherato/Escritorio/Computacion2022-8099/Practicas/Fisher\n"
     ]
    }
   ],
   "source": [
    "pwd"
   ]
  },
  {
   "cell_type": "code",
   "execution_count": 16,
   "metadata": {},
   "outputs": [
    {
     "name": "stdout",
     "output_type": "stream",
     "text": [
      "Batman    \u001b[0m\u001b[01;34mconfiguracion\u001b[0m  hola.txt   \u001b[01;34mreinstalacion\u001b[0m\n",
      "\u001b[01;34mBautista\u001b[0m  hola2.txt      \u001b[01;34mprogramas\u001b[0m  \u001b[01;34musuarios\u001b[0m\n",
      "hola\n",
      "denuevo"
     ]
    }
   ],
   "source": [
    "printf 'hola\\ndenuevo' > hola2.txt && ls && cat hola2.txt"
   ]
  },
  {
   "cell_type": "code",
   "execution_count": null,
   "metadata": {},
   "outputs": [],
   "source": [
    "#con pwd revisé en qué directorio me encontraba, usé en esta ocasión printf para crear un archivo y escribir en él varias líneas, no sólo una, así fue como pude escribir \"hola\" y \"de nuevo\" en 2 renglones diferentes, luego usé cat para leer el archivo.txt"
   ]
  },
  {
   "cell_type": "markdown",
   "metadata": {},
   "source": [
    "10. Crea un archivo llamado PEGADO.txt que contenga las primeras 37 lineas del archivo .bashrc y las ultimas 23 lineas del archivo .bash_history"
   ]
  },
  {
   "cell_type": "markdown",
   "metadata": {},
   "source": [
    "INSTRUCCIONES:\n",
    "\n",
    "\n",
    "EJERCICIOS:\n",
    "\n",
    "\n",
    "\n",
    "TRATA DE USAR EL MENOR NUMERO DE COMANDOS POSIBLES.\n",
    "\n",
    "\n",
    "\n",
    "\n",
    "<br>\n",
    "\n",
    "\n",
    "\n",
    "<br>\n",
    "\n",
    "\n",
    "\n",
    "\n",
    "\n",
    "\n",
    "\n",
    "\n",
    "\n",
    "\n",
    "\n",
    "\n",
    "\n",
    "\n",
    "\n",
    "\n",
    "\n",
    "\n",
    "\n"
   ]
  },
  {
   "cell_type": "code",
   "execution_count": 23,
   "metadata": {},
   "outputs": [
    {
     "name": "stdout",
     "output_type": "stream",
     "text": [
      "# ~/.bashrc: executed by bash(1) for non-login shells.\n",
      "# see /usr/share/doc/bash/examples/startup-files (in the package bash-doc)\n",
      "# for examples\n",
      "\n",
      "# If not running interactively, don't do anything\n",
      "case $- in\n",
      "    *i*) ;;\n",
      "      *) return;;\n",
      "esac\n",
      "\n",
      "# don't put duplicate lines or lines starting with space in the history.\n",
      "# See bash(1) for more options\n",
      "HISTCONTROL=ignoreboth\n",
      "\n",
      "# append to the history file, don't overwrite it\n",
      "shopt -s histappend\n",
      "\n",
      "# for setting history length see HISTSIZE and HISTFILESIZE in bash(1)\n",
      "HISTSIZE=1000\n",
      "HISTFILESIZE=2000\n",
      "\n",
      "# check the window size after each command and, if necessary,\n",
      "# update the values of LINES and COLUMNS.\n",
      "shopt -s checkwinsize\n",
      "\n",
      "# If set, the pattern \"**\" used in a pathname expansion context will\n",
      "# match all files and zero or more directories and subdirectories.\n",
      "#shopt -s globstar\n",
      "\n",
      "# make less more friendly for non-text input files, see lesspipe(1)\n",
      "[ -x /usr/bin/lesspipe ] && eval \"$(SHELL=/bin/sh lesspipe)\"\n",
      "\n",
      "# set variable identifying the chroot you work in (used in the prompt below)\n",
      "if [ -z \"${debian_chroot:-}\" ] && [ -r /etc/debian_chroot ]; then\n",
      "    debian_chroot=$(cat /etc/debian_chroot)\n",
      "fi\n",
      "\n",
      "export PAGER=cat\n",
      "bind 'set enable-bracketed-paste off' >/dev/null 2>&1 || true\n",
      "display () {     TMPFILE=$(mktemp ${TMPDIR-/tmp}/bash_kernel.XXXXXXXXXX);     cat > $TMPFILE;     echo \"bash_kernel: saved image data to: $TMPFILE\" >&2; }\n",
      "pwd\n",
      "echo $?\n",
      "tree .\n",
      "echo $?\n",
      "cd Fisher/ && mkdir -p configuracion/X11 configuracion/gnome programas/ reinstalacion/ usuarios/python/scripts\n",
      "echo $?\n",
      "pwd && tree .\n",
      "echo $?\n",
      "cd reinstalacion/ && touch guia notas secuencia.data paquetes.pkg imagen.iso && tree .\n",
      "echo $?\n",
      "man printf\n",
      "man echo\n",
      "man cat\n",
      "PS1='[PEXP\\[\\]ECT_PROMPT>' PS2='[PEXP\\[\\]ECT_PROMPT+' PROMPT_COMMAND=''\n",
      "export PAGER=cat\n",
      "bind 'set enable-bracketed-paste off' >/dev/null 2>&1 || true\n",
      "display () {     TMPFILE=$(mktemp ${TMPDIR-/tmp}/bash_kernel.XXXXXXXXXX);     cat > $TMPFILE;     echo \"bash_kernel: saved image data to: $TMPFILE\" >&2; }\n",
      "find / -bashrc\n",
      "echo $?\n",
      "find / -name .bashrc\n"
     ]
    }
   ],
   "source": [
    "cd ~ && head -37 .bashrc && tail -23 .bash_history"
   ]
  },
  {
   "cell_type": "code",
   "execution_count": 24,
   "metadata": {},
   "outputs": [],
   "source": [
    "head -37 .bashrc >> PEGADO.txt && tail -23 .bash_history >> PEGADO.txt && mv PEGADO.txt /home/fisherato/Escritorio/Computacion2022-8099/Practicas/Fisher/"
   ]
  },
  {
   "cell_type": "code",
   "execution_count": 33,
   "metadata": {},
   "outputs": [
    {
     "name": "stdout",
     "output_type": "stream",
     "text": [
      "/home/fisherato\n"
     ]
    }
   ],
   "source": [
    "cd ~ && pwd "
   ]
  },
  {
   "cell_type": "code",
   "execution_count": 34,
   "metadata": {},
   "outputs": [
    {
     "name": "stdout",
     "output_type": "stream",
     "text": [
      "/home/fisherato/Escritorio/Computacion2022-8099/Practicas/Fisher\n",
      "total 32\n",
      "-rw-rw-r-- 1 fisherato fisherato    0 sep  7 20:45 Batman\n",
      "drwxrwxr-x 3 fisherato fisherato 4096 sep  7 20:45 \u001b[0m\u001b[01;34mBautista\u001b[0m\n",
      "drwxrwxr-x 4 fisherato fisherato 4096 sep  9 19:03 \u001b[01;34mconfiguracion\u001b[0m\n",
      "-rw-rw-r-- 1 fisherato fisherato   12 sep  9 20:34 hola2.txt\n",
      "-rw-rw-r-- 1 fisherato fisherato    5 sep  9 20:21 hola.txt\n",
      "-rw-rw-r-- 1 fisherato fisherato 2023 sep  9 21:27 PEGADO.txt\n",
      "drwxrwxr-x 3 fisherato fisherato 4096 sep  9 20:05 \u001b[01;34mprogramas\u001b[0m\n",
      "drwxrwxr-x 2 fisherato fisherato 4096 sep  9 19:04 \u001b[01;34mreinstalacion\u001b[0m\n",
      "drwxrwxr-x 3 fisherato fisherato 4096 sep  9 19:03 \u001b[01;34musuarios\u001b[0m\n"
     ]
    }
   ],
   "source": [
    "cd /home/fisherato/Escritorio/Computacion2022-8099/Practicas/Fisher && pwd && ls -l"
   ]
  },
  {
   "cell_type": "code",
   "execution_count": 35,
   "metadata": {},
   "outputs": [
    {
     "name": "stdout",
     "output_type": "stream",
     "text": [
      "# ~/.bashrc: executed by bash(1) for non-login shells.\n",
      "# see /usr/share/doc/bash/examples/startup-files (in the package bash-doc)\n",
      "# for examples\n",
      "\n",
      "# If not running interactively, don't do anything\n",
      "case $- in\n",
      "    *i*) ;;\n",
      "      *) return;;\n",
      "esac\n",
      "\n",
      "# don't put duplicate lines or lines starting with space in the history.\n",
      "# See bash(1) for more options\n",
      "HISTCONTROL=ignoreboth\n",
      "\n",
      "# append to the history file, don't overwrite it\n",
      "shopt -s histappend\n",
      "\n",
      "# for setting history length see HISTSIZE and HISTFILESIZE in bash(1)\n",
      "HISTSIZE=1000\n",
      "HISTFILESIZE=2000\n",
      "\n",
      "# check the window size after each command and, if necessary,\n",
      "# update the values of LINES and COLUMNS.\n",
      "shopt -s checkwinsize\n",
      "\n",
      "# If set, the pattern \"**\" used in a pathname expansion context will\n",
      "# match all files and zero or more directories and subdirectories.\n",
      "#shopt -s globstar\n",
      "\n",
      "# make less more friendly for non-text input files, see lesspipe(1)\n",
      "[ -x /usr/bin/lesspipe ] && eval \"$(SHELL=/bin/sh lesspipe)\"\n",
      "\n",
      "# set variable identifying the chroot you work in (used in the prompt below)\n",
      "if [ -z \"${debian_chroot:-}\" ] && [ -r /etc/debian_chroot ]; then\n",
      "    debian_chroot=$(cat /etc/debian_chroot)\n",
      "fi\n",
      "\n",
      "export PAGER=cat\n",
      "bind 'set enable-bracketed-paste off' >/dev/null 2>&1 || true\n",
      "display () {     TMPFILE=$(mktemp ${TMPDIR-/tmp}/bash_kernel.XXXXXXXXXX);     cat > $TMPFILE;     echo \"bash_kernel: saved image data to: $TMPFILE\" >&2; }\n",
      "pwd\n",
      "echo $?\n",
      "tree .\n",
      "echo $?\n",
      "cd Fisher/ && mkdir -p configuracion/X11 configuracion/gnome programas/ reinstalacion/ usuarios/python/scripts\n",
      "echo $?\n",
      "pwd && tree .\n",
      "echo $?\n",
      "cd reinstalacion/ && touch guia notas secuencia.data paquetes.pkg imagen.iso && tree .\n",
      "echo $?\n",
      "man printf\n",
      "man echo\n",
      "man cat\n",
      "PS1='[PEXP\\[\\]ECT_PROMPT>' PS2='[PEXP\\[\\]ECT_PROMPT+' PROMPT_COMMAND=''\n",
      "export PAGER=cat\n",
      "bind 'set enable-bracketed-paste off' >/dev/null 2>&1 || true\n",
      "display () {     TMPFILE=$(mktemp ${TMPDIR-/tmp}/bash_kernel.XXXXXXXXXX);     cat > $TMPFILE;     echo \"bash_kernel: saved image data to: $TMPFILE\" >&2; }\n",
      "find / -bashrc\n",
      "echo $?\n",
      "find / -name .bashrc\n"
     ]
    }
   ],
   "source": [
    "cat PEGADO.txt"
   ]
  },
  {
   "cell_type": "code",
   "execution_count": null,
   "metadata": {},
   "outputs": [],
   "source": [
    "#primero cambié de directorio desde . a ~, ya que ahí podía escribirse head y tail de los archivos que se requerían, usé head -37 .bashrc para ver las primeras 37 líneas de .bashrc y tail -23 .bash_history para ver las últimas 27 líneas de .bash_history"
   ]
  },
  {
   "cell_type": "code",
   "execution_count": null,
   "metadata": {},
   "outputs": [],
   "source": [
    "#luego escribí de nuevo head -37 .bashrc y tail -23 .bash_history pero poniendo al final >> PEGADO.txt, así se escribiría un archivo de nombre PEGADO.txt con las 37 primeras líneas de .bashrc y las últimas 23 líneas de .bash_history, ya que con >> se redirige la salida de ambos comandos y además el archivo no se reescribe al ejecutar el segundo, sino que se adhiere la salida del segundo comando a la del primero"
   ]
  },
  {
   "cell_type": "code",
   "execution_count": null,
   "metadata": {},
   "outputs": [],
   "source": [
    "#Como mi archivo PEGADO.txt se encontraba en ~, usé mv para moverlo al directorio Fisher/ que es el que yo quería, después usé cd para moverme a ese mismo directorio, comrpobé que estuviera ahí con ls -l y por último ejecuté cat con PEGADO.txt como argumento para comprobar que tuviera el contenido solicitado"
   ]
  }
 ],
 "metadata": {
  "kernelspec": {
   "display_name": "Bash",
   "language": "bash",
   "name": "bash"
  },
  "language_info": {
   "codemirror_mode": "shell",
   "file_extension": ".sh",
   "mimetype": "text/x-sh",
   "name": "bash"
  }
 },
 "nbformat": 4,
 "nbformat_minor": 4
}
